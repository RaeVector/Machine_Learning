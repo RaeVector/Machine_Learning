{
  "nbformat": 4,
  "nbformat_minor": 0,
  "metadata": {
    "colab": {
      "name": "Machine Learning Assignment.ipynb",
      "provenance": [],
      "collapsed_sections": []
    },
    "kernelspec": {
      "display_name": "Python 3",
      "name": "python3"
    },
    "language_info": {
      "name": "python"
    }
  },
  "cells": [
    {
      "cell_type": "markdown",
      "metadata": {
        "id": "OVTaQnWJmQ3A"
      },
      "source": [
        "# Machine Learning Assingment - 168899\n",
        "\n"
      ]
    },
    {
      "cell_type": "code",
      "metadata": {
        "colab": {
          "base_uri": "https://localhost:8080/"
        },
        "id": "lCb42LXKoFDk",
        "outputId": "20b523c2-94b7-4721-d87e-86e526f2392a"
      },
      "source": [
        "from google.colab import drive\n",
        "drive.mount('/content/drive/')"
      ],
      "execution_count": null,
      "outputs": [
        {
          "output_type": "stream",
          "text": [
            "Drive already mounted at /content/drive/; to attempt to forcibly remount, call drive.mount(\"/content/drive/\", force_remount=True).\n"
          ],
          "name": "stdout"
        }
      ]
    },
    {
      "cell_type": "markdown",
      "metadata": {
        "id": "4I9RgsyCmQpO"
      },
      "source": [
        "Module Imports"
      ]
    },
    {
      "cell_type": "code",
      "metadata": {
        "id": "Lw967Nb8W_QV"
      },
      "source": [
        "#required imports to run modules\n",
        "%matplotlib inline\n",
        "import pandas as pd \n",
        "import numpy as np\n",
        "import tensorflow as tf\n",
        "from tensorflow import keras\n",
        "from tensorflow.keras import layers\n",
        "from tensorflow.keras import regularizers\n",
        "from tensorflow.keras.models import Sequential\n",
        "from tensorflow.keras.layers.experimental import preprocessing\n",
        "from tensorflow.keras.constraints import max_norm\n",
        "from sklearn.preprocessing import StandardScaler,MinMaxScaler\n",
        "from keras.optimizers import Adam\n",
        "#!pip install -q git+https://github.com/tensorflow/docs\n",
        "#import tensorflow_docs as tfdocs\n",
        "#import tensorflow_docs.modeling\n",
        "#import tensorflow_docs.plots\n",
        "from sklearn.impute import KNNImputer\n",
        "np.set_printoptions(precision=3,suppress=True)\n",
        "import matplotlib.pyplot as plt\n",
        "from sklearn import model_selection"
      ],
      "execution_count": 64,
      "outputs": []
    },
    {
      "cell_type": "markdown",
      "metadata": {
        "id": "TOxoHj2BmgWK"
      },
      "source": [
        "Reading data from csv files\n"
      ]
    },
    {
      "cell_type": "code",
      "metadata": {
        "id": "zd-JsIn-mPAF"
      },
      "source": [
        "#loading data from csv files using pandas\n",
        "training_data         = pd.read_csv(\"/content/drive/MyDrive/ML_csv_files/training.csv\")\n",
        "test_data             = pd.read_csv(\"/content/drive/MyDrive/ML_csv_files/testing.csv\")\n",
        "additional_data       = pd.read_csv(\"/content/drive/MyDrive/ML_csv_files/additional_training.csv\")\n",
        "annotation_confidence = pd.read_csv(\"/content/drive/MyDrive/ML_csv_files/annotation_confidence.csv\")\n",
        "test_proportion       = pd.read_csv(\"/content/drive/MyDrive/ML_csv_files/test_proportions.csv\")"
      ],
      "execution_count": 4,
      "outputs": []
    },
    {
      "cell_type": "code",
      "metadata": {
        "id": "ABtTsPztxisf"
      },
      "source": [
        "#adding together trianing and additional data\n",
        "frames = [additional_data,training_data]\n",
        "train=pd.concat(frames)"
      ],
      "execution_count": 5,
      "outputs": []
    },
    {
      "cell_type": "code",
      "metadata": {
        "id": "z3cf8dRxqprK"
      },
      "source": [
        "#train=train.replace(np.NaN, train.mean())"
      ],
      "execution_count": null,
      "outputs": []
    },
    {
      "cell_type": "markdown",
      "metadata": {
        "id": "Pa2fLo88qWxu"
      },
      "source": [
        "Seperating features of data"
      ]
    },
    {
      "cell_type": "code",
      "metadata": {
        "id": "h5RWdkQxqUyn"
      },
      "source": [
        "#Seperation of CNN and GIST features in training data\n",
        "training_CNN      = train.iloc[:,1:4097]\n",
        "training_GIST     = train.iloc[:,4097:4608]\n",
        "training_labels   = train.iloc[:,4609]\n",
        "#Seperataion of CNN and GIST features in test data\n",
        "testing_CNN       = test_data.iloc[:,1:4097]\n",
        "testing_GIST      = test_data.iloc[:,4097:4608]"
      ],
      "execution_count": 6,
      "outputs": []
    },
    {
      "cell_type": "markdown",
      "metadata": {
        "id": "mxM8axaaflVK"
      },
      "source": [
        "Putting data into arrays"
      ]
    },
    {
      "cell_type": "code",
      "metadata": {
        "id": "0fq5TZJvfkkI"
      },
      "source": [
        "training_CNN = np.asarray(training_CNN)\n",
        "training_GIST=np.asarray(training_GIST)\n",
        "training_labels = np.asarray(training_labels)\n",
        "testing_CNN  = np.asarray(testing_CNN)\n",
        "testing_GIST = np.asarray(testing_GIST)\n",
        "confidence=np.asarray(annotation_confidence)"
      ],
      "execution_count": 7,
      "outputs": []
    },
    {
      "cell_type": "markdown",
      "metadata": {
        "id": "-Ztcn4lv0FtS"
      },
      "source": [
        "Pre-processing"
      ]
    },
    {
      "cell_type": "code",
      "metadata": {
        "id": "CkCpul6oXVzC"
      },
      "source": [
        "#KNN\n",
        "#Using kNN to impute missing values of CNN and GIST features\n",
        "imputer = KNNImputer(n_neighbors=2)\n",
        "training_CNN = imputer.fit_transform(training_CNN)\n",
        "training_GIST = imputer.fit_transform(training_GIST)"
      ],
      "execution_count": 8,
      "outputs": []
    },
    {
      "cell_type": "code",
      "metadata": {
        "id": "5xLcO15_qUY2"
      },
      "source": [
        "normalize = preprocessing.Normalization()\n",
        "normalize.adapt(training_CNN)\n",
        "normalize.adapt(testing_CNN)"
      ],
      "execution_count": 112,
      "outputs": []
    },
    {
      "cell_type": "code",
      "metadata": {
        "id": "-Zl6tV1Cpe56"
      },
      "source": [
        "normalize = preprocessing.Normalization()\n",
        "normalize.adapt(training_GIST)"
      ],
      "execution_count": 114,
      "outputs": []
    },
    {
      "cell_type": "markdown",
      "metadata": {
        "id": "0JLcFT5sMQtJ"
      },
      "source": [
        "Creating the model and compiling it"
      ]
    },
    {
      "cell_type": "code",
      "metadata": {
        "id": "uAzyw0E0VCTy"
      },
      "source": [
        "class MCDropout(tf.keras.layers.Layer):\n",
        "    def __init__(self, rate):\n",
        "        super(MCDropout, self).__init__()\n",
        "        self.rate = rate\n",
        "\n",
        "    def call(self, inputs):\n",
        "        return tf.nn.dropout(inputs, rate=self.rate)"
      ],
      "execution_count": 115,
      "outputs": []
    },
    {
      "cell_type": "markdown",
      "metadata": {
        "id": "srRnEqz6l1OY"
      },
      "source": [
        "Basic model for CNN and GIST comaparison"
      ]
    },
    {
      "cell_type": "code",
      "metadata": {
        "id": "ePANtbz8l1jI"
      },
      "source": [
        "featurecompmodel=Sequential([\n",
        "                             normalize,\n",
        "                             layers.Dense(16,activation='relu'),\n",
        "                             layers.Dense(1,activation='sigmoid'),\n",
        "                              ])\n",
        "\n",
        "opt = tf.keras.optimizers.Adam(learning_rate=0.01)\n",
        "featurecompmodel.compile(optimizer=opt,\n",
        "                          loss=keras.losses.BinaryCrossentropy(from_logits=True),\n",
        "                          metrics=['binary_accuracy'],\n",
        "                          )"
      ],
      "execution_count": 116,
      "outputs": []
    },
    {
      "cell_type": "code",
      "metadata": {
        "colab": {
          "base_uri": "https://localhost:8080/",
          "height": 0
        },
        "id": "OBOUPjv6n5xb",
        "outputId": "8a061fe3-efc4-4b7c-8714-7ce534de5d53"
      },
      "source": [
        "#CNN\n",
        "historyCNN = featurecompmodel.fit(training_CNN,\n",
        "                               training_labels,\n",
        "                               epochs=10,\n",
        "                               verbose=2,\n",
        "                               batch_size=256,                 \n",
        "                               validation_split=0.05,\n",
        "                               )\n",
        "#val accuracy of 0.6626 after 10 epochs"
      ],
      "execution_count": 106,
      "outputs": [
        {
          "output_type": "stream",
          "text": [
            "Epoch 1/10\n",
            "25/25 - 0s - loss: 0.0714 - binary_accuracy: 0.9732 - val_loss: 2.9029 - val_binary_accuracy: 0.6778\n",
            "Epoch 2/10\n",
            "25/25 - 0s - loss: 0.0702 - binary_accuracy: 0.9745 - val_loss: 2.8638 - val_binary_accuracy: 0.6748\n",
            "Epoch 3/10\n",
            "25/25 - 0s - loss: 0.0645 - binary_accuracy: 0.9750 - val_loss: 2.9624 - val_binary_accuracy: 0.6717\n",
            "Epoch 4/10\n",
            "25/25 - 0s - loss: 0.0623 - binary_accuracy: 0.9751 - val_loss: 2.9821 - val_binary_accuracy: 0.6748\n",
            "Epoch 5/10\n",
            "25/25 - 0s - loss: 0.0621 - binary_accuracy: 0.9768 - val_loss: 3.1224 - val_binary_accuracy: 0.6809\n",
            "Epoch 6/10\n",
            "25/25 - 0s - loss: 0.0658 - binary_accuracy: 0.9747 - val_loss: 3.0967 - val_binary_accuracy: 0.6748\n",
            "Epoch 7/10\n",
            "25/25 - 0s - loss: 0.0627 - binary_accuracy: 0.9758 - val_loss: 3.0777 - val_binary_accuracy: 0.6809\n",
            "Epoch 8/10\n",
            "25/25 - 0s - loss: 0.0576 - binary_accuracy: 0.9772 - val_loss: 3.1605 - val_binary_accuracy: 0.6687\n",
            "Epoch 9/10\n",
            "25/25 - 0s - loss: 0.0543 - binary_accuracy: 0.9790 - val_loss: 3.2710 - val_binary_accuracy: 0.6748\n",
            "Epoch 10/10\n",
            "25/25 - 0s - loss: 0.0509 - binary_accuracy: 0.9798 - val_loss: 3.3779 - val_binary_accuracy: 0.6626\n"
          ],
          "name": "stdout"
        }
      ]
    },
    {
      "cell_type": "code",
      "metadata": {
        "colab": {
          "base_uri": "https://localhost:8080/",
          "height": 0
        },
        "id": "04azHQ5nn5nc",
        "outputId": "fac8d0c9-1758-4488-fef0-508dd2d88670"
      },
      "source": [
        "historyCNN = featurecompmodel.fit(training_GIST,\n",
        "                               training_labels,\n",
        "                               epochs=10,\n",
        "                               verbose=2,\n",
        "                               batch_size=256,                 \n",
        "                               validation_split=0.05,\n",
        "                               )\n",
        "#val accuracy of 0.6748 after 10 epochs"
      ],
      "execution_count": 117,
      "outputs": [
        {
          "output_type": "stream",
          "text": [
            "Epoch 1/10\n",
            "25/25 - 1s - loss: 0.8284 - binary_accuracy: 0.6184 - val_loss: 0.6237 - val_binary_accuracy: 0.6778\n",
            "Epoch 2/10\n",
            "25/25 - 0s - loss: 0.6111 - binary_accuracy: 0.6825 - val_loss: 0.6028 - val_binary_accuracy: 0.7082\n",
            "Epoch 3/10\n",
            "25/25 - 0s - loss: 0.5766 - binary_accuracy: 0.7079 - val_loss: 0.5982 - val_binary_accuracy: 0.7021\n",
            "Epoch 4/10\n",
            "25/25 - 0s - loss: 0.5631 - binary_accuracy: 0.7132 - val_loss: 0.6124 - val_binary_accuracy: 0.6930\n",
            "Epoch 5/10\n",
            "25/25 - 0s - loss: 0.5375 - binary_accuracy: 0.7258 - val_loss: 0.6080 - val_binary_accuracy: 0.6960\n",
            "Epoch 6/10\n",
            "25/25 - 0s - loss: 0.5216 - binary_accuracy: 0.7488 - val_loss: 0.6324 - val_binary_accuracy: 0.6809\n",
            "Epoch 7/10\n",
            "25/25 - 0s - loss: 0.5120 - binary_accuracy: 0.7542 - val_loss: 0.6853 - val_binary_accuracy: 0.6413\n",
            "Epoch 8/10\n",
            "25/25 - 0s - loss: 0.5007 - binary_accuracy: 0.7574 - val_loss: 0.6998 - val_binary_accuracy: 0.6383\n",
            "Epoch 9/10\n",
            "25/25 - 0s - loss: 0.4895 - binary_accuracy: 0.7706 - val_loss: 0.6739 - val_binary_accuracy: 0.6657\n",
            "Epoch 10/10\n",
            "25/25 - 0s - loss: 0.4687 - binary_accuracy: 0.7863 - val_loss: 0.6866 - val_binary_accuracy: 0.6748\n"
          ],
          "name": "stdout"
        }
      ]
    },
    {
      "cell_type": "markdown",
      "metadata": {
        "id": "NT2K8bgSEjoC"
      },
      "source": [
        "Basic Model for SELU comparison"
      ]
    },
    {
      "cell_type": "code",
      "metadata": {
        "id": "MiaPSkNLEp9x"
      },
      "source": [
        "featureactivationmodel=Sequential([\n",
        "                             normalize,\n",
        "                             layers.Dense(64,activation='selu',kernel_initializer='lecun_normal'),\n",
        "                             layers.Dense(1,activation='sigmoid'),\n",
        "                              ])\n",
        "\n",
        "opt = tf.keras.optimizers.Adam(learning_rate=0.02)\n",
        "featureactivationmodel.compile(optimizer=opt,\n",
        "                          loss=keras.losses.BinaryCrossentropy(from_logits=True),\n",
        "                          metrics=['binary_accuracy'],\n",
        "                          )"
      ],
      "execution_count": 95,
      "outputs": []
    },
    {
      "cell_type": "code",
      "metadata": {
        "colab": {
          "base_uri": "https://localhost:8080/",
          "height": 0
        },
        "id": "FUwmyZZSEscJ",
        "outputId": "4ae2a1cb-6cad-405a-f32f-fd64f23344fe"
      },
      "source": [
        "historyCNN = featureactivationmodel.fit(training_CNN,\n",
        "                               training_labels,\n",
        "                               epochs=10,\n",
        "                               verbose=2,\n",
        "                               batch_size=256,                 \n",
        "                               validation_split=0.05,\n",
        "                               )"
      ],
      "execution_count": 123,
      "outputs": [
        {
          "output_type": "stream",
          "text": [
            "Epoch 1/10\n",
            "25/25 - 1s - loss: 0.1260 - binary_accuracy: 0.9315 - val_loss: 1.8333 - val_binary_accuracy: 0.6778\n",
            "Epoch 2/10\n",
            "25/25 - 0s - loss: 0.1236 - binary_accuracy: 0.9309 - val_loss: 2.0304 - val_binary_accuracy: 0.6839\n",
            "Epoch 3/10\n",
            "25/25 - 0s - loss: 0.1163 - binary_accuracy: 0.9388 - val_loss: 1.9488 - val_binary_accuracy: 0.6960\n",
            "Epoch 4/10\n",
            "25/25 - 0s - loss: 0.1085 - binary_accuracy: 0.9412 - val_loss: 2.2311 - val_binary_accuracy: 0.6900\n",
            "Epoch 5/10\n",
            "25/25 - 0s - loss: 0.0959 - binary_accuracy: 0.9445 - val_loss: 2.4169 - val_binary_accuracy: 0.6717\n",
            "Epoch 6/10\n",
            "25/25 - 0s - loss: 0.0978 - binary_accuracy: 0.9448 - val_loss: 2.4488 - val_binary_accuracy: 0.6413\n",
            "Epoch 7/10\n",
            "25/25 - 0s - loss: 0.1962 - binary_accuracy: 0.9254 - val_loss: 2.9137 - val_binary_accuracy: 0.6505\n",
            "Epoch 8/10\n",
            "25/25 - 0s - loss: 0.3207 - binary_accuracy: 0.8945 - val_loss: 1.6685 - val_binary_accuracy: 0.6869\n",
            "Epoch 9/10\n",
            "25/25 - 0s - loss: 0.2373 - binary_accuracy: 0.9009 - val_loss: 1.9359 - val_binary_accuracy: 0.6717\n",
            "Epoch 10/10\n",
            "25/25 - 0s - loss: 0.1851 - binary_accuracy: 0.9202 - val_loss: 1.9873 - val_binary_accuracy: 0.6687\n"
          ],
          "name": "stdout"
        }
      ]
    },
    {
      "cell_type": "markdown",
      "metadata": {
        "id": "_SfwREDBktB6"
      },
      "source": [
        "SELU small model"
      ]
    },
    {
      "cell_type": "code",
      "metadata": {
        "id": "u0xV3rSBO5v5"
      },
      "source": [
        "#small selu Model\n",
        "callback = tf.keras.callbacks.EarlyStopping(monitor='val_loss', patience=0)\n",
        "classifier_smallselu_model = Sequential([\n",
        "                    normalize,\n",
        "\n",
        "                    layers.Dense(4069,activation=None,kernel_regularizer=regularizers.l2(0.001), input_shape=(4096,)),\n",
        "                    MCDropout(rate=0.5),\n",
        "                    layers.BatchNormalization(),\n",
        "                    layers.Dense(16,activation='selu',kernel_regularizer=regularizers.l2(0.001),kernel_initializer='lecun_normal'),\n",
        "                    MCDropout(rate=0.5),\n",
        "                    layers.BatchNormalization(),\n",
        "                    layers.Dense(16,activation='selu',kernel_regularizer=regularizers.l2(0.001),kernel_initializer='lecun_normal'),\n",
        "                    MCDropout(rate=0.5),\n",
        "                    layers.BatchNormalization(),\n",
        "                    layers.Dense(16,activation='selu',kernel_regularizer=regularizers.l2(0.001),kernel_initializer='lecun_normal'),\n",
        "                    MCDropout(rate=0.5),\n",
        "                    layers.BatchNormalization(),\n",
        "                    layers.Dense(1,activation='sigmoid'),\n",
        "                    ])\n",
        "opt = tf.keras.optimizers.Adam(learning_rate=0.01)\n",
        "classifier_smallselu_model.compile(optimizer=opt,\n",
        "                          loss=keras.losses.BinaryCrossentropy(from_logits=True),\n",
        "                          metrics=['binary_accuracy'],\n",
        "                          \n",
        "                          )\n"
      ],
      "execution_count": 19,
      "outputs": []
    },
    {
      "cell_type": "markdown",
      "metadata": {
        "id": "rwFpLOjHkxTa"
      },
      "source": [
        "SELU Large model"
      ]
    },
    {
      "cell_type": "code",
      "metadata": {
        "id": "wIOVdrmXMSkh"
      },
      "source": [
        "#Large selu model\n",
        "callback = tf.keras.callbacks.EarlyStopping(monitor='val_loss', patience=0)\n",
        "classifier_largeselu_model = Sequential([\n",
        "                    normalize,\n",
        "\n",
        "                    layers.Dense(4069,activation=None,kernel_regularizer=regularizers.l2(0.001), input_shape=(4096,)),\n",
        "                    MCDropout(rate=0.5),\n",
        "                    layers.BatchNormalization(),\n",
        "                    layers.Dense(128,activation='selu',kernel_regularizer=regularizers.l2(0.001),kernel_initializer='lecun_normal'),\n",
        "                    MCDropout(rate=0.5),\n",
        "                    layers.BatchNormalization(),\n",
        "                    layers.Dense(128,activation='selu',kernel_regularizer=regularizers.l2(0.001),kernel_initializer='lecun_normal'),\n",
        "                    MCDropout(rate=0.5),\n",
        "                    layers.BatchNormalization(),\n",
        "                    layers.Dense(128,activation='selu',kernel_regularizer=regularizers.l2(0.001),kernel_initializer='lecun_normal'),\n",
        "                    MCDropout(rate=0.5),\n",
        "                    layers.BatchNormalization(),\n",
        "                    layers.Dense(1,activation='sigmoid'),\n",
        "                    ])\n",
        "opt = tf.keras.optimizers.Adam(learning_rate=0.01)\n",
        "classifier_largeselu_model.compile(optimizer=opt,\n",
        "                          loss=keras.losses.BinaryCrossentropy(from_logits=True),\n",
        "                          metrics=['binary_accuracy'],\n",
        "                          \n",
        "                          )\n"
      ],
      "execution_count": 28,
      "outputs": []
    },
    {
      "cell_type": "markdown",
      "metadata": {
        "id": "BRhmnTzHDEsc"
      },
      "source": [
        "SELU Huge model\n",
        "\n"
      ]
    },
    {
      "cell_type": "code",
      "metadata": {
        "id": "0ZWv4CuHDD2F"
      },
      "source": [
        "#Large selu model\n",
        "callback = tf.keras.callbacks.EarlyStopping(monitor='val_loss', patience=2)\n",
        "classifier_hugeselu_model = Sequential([\n",
        "                    normalize,\n",
        "\n",
        "                    layers.Dense(4069,activation=None,kernel_regularizer=regularizers.l2(0.001), input_shape=(4096,)),\n",
        "                    MCDropout(rate=0.5),\n",
        "                    layers.BatchNormalization(),\n",
        "                    layers.Dense(1024,activation='selu',kernel_regularizer=regularizers.l2(0.001),kernel_initializer='lecun_normal'),\n",
        "                    MCDropout(rate=0.5),\n",
        "                    layers.BatchNormalization(),\n",
        "                    layers.Dense(512,activation='selu',kernel_regularizer=regularizers.l2(0.001),kernel_initializer='lecun_normal'),\n",
        "                    MCDropout(rate=0.5),\n",
        "                    layers.BatchNormalization(),\n",
        "                    layers.Dense(512,activation='selu',kernel_regularizer=regularizers.l2(0.001),kernel_initializer='lecun_normal'),\n",
        "                    MCDropout(rate=0.5),\n",
        "                    layers.BatchNormalization(),\n",
        "                    layers.Dense(1,activation='sigmoid'),\n",
        "                    ])\n",
        "opt = tf.keras.optimizers.Adam(learning_rate=0.01)\n",
        "classifier_hugeselu_model.compile(optimizer=opt,\n",
        "                          loss=keras.losses.BinaryCrossentropy(from_logits=True),\n",
        "                          metrics=['binary_accuracy'],\n",
        "                          \n",
        "                          )"
      ],
      "execution_count": 97,
      "outputs": []
    },
    {
      "cell_type": "markdown",
      "metadata": {
        "id": "22fkIZJRk99B"
      },
      "source": [
        "small selu fit"
      ]
    },
    {
      "cell_type": "code",
      "metadata": {
        "colab": {
          "base_uri": "https://localhost:8080/",
          "height": 0
        },
        "id": "VIDqqLFF-i_T",
        "outputId": "8740a2ef-0971-48c7-9f85-62ae544b40b1"
      },
      "source": [
        "history1 = classifier_smallselu_model.fit(training_CNN,\n",
        "                               training_labels,\n",
        "                               epochs=30,\n",
        "                               verbose=2,\n",
        "                               batch_size=256,                 \n",
        "                               validation_split=0.05,\n",
        "                               callbacks=callback\n",
        "                               )"
      ],
      "execution_count": 33,
      "outputs": [
        {
          "output_type": "stream",
          "text": [
            "Epoch 1/30\n",
            "25/25 - 12s - loss: 0.8629 - binary_accuracy: 0.7282 - val_loss: 0.8629 - val_binary_accuracy: 0.7143\n",
            "Epoch 2/30\n",
            "25/25 - 12s - loss: 0.8833 - binary_accuracy: 0.7250 - val_loss: 0.8368 - val_binary_accuracy: 0.7568\n",
            "Epoch 3/30\n",
            "25/25 - 13s - loss: 0.8801 - binary_accuracy: 0.7273 - val_loss: 0.8873 - val_binary_accuracy: 0.6960\n"
          ],
          "name": "stdout"
        }
      ]
    },
    {
      "cell_type": "markdown",
      "metadata": {
        "id": "lv2FCSCWmNXw"
      },
      "source": [
        "Large selu fit"
      ]
    },
    {
      "cell_type": "code",
      "metadata": {
        "colab": {
          "base_uri": "https://localhost:8080/",
          "height": 0
        },
        "id": "Y9qyeynolk0i",
        "outputId": "6d3747b7-b0d5-4230-c14b-1e4e08c40339"
      },
      "source": [
        "history3 = classifier_largeselu_model.fit(training_CNN,\n",
        "                               training_labels,\n",
        "                               epochs=30,\n",
        "                               verbose=2,\n",
        "                               batch_size=256,                 \n",
        "                               validation_split=0.05,\n",
        "                               callbacks=callback\n",
        "                               )"
      ],
      "execution_count": 34,
      "outputs": [
        {
          "output_type": "stream",
          "text": [
            "Epoch 1/30\n",
            "25/25 - 14s - loss: 10.5836 - binary_accuracy: 0.6938 - val_loss: 5.4731 - val_binary_accuracy: 0.7295\n",
            "Epoch 2/30\n",
            "25/25 - 12s - loss: 2.5990 - binary_accuracy: 0.7444 - val_loss: 1.4976 - val_binary_accuracy: 0.7356\n",
            "Epoch 3/30\n",
            "25/25 - 12s - loss: 1.2002 - binary_accuracy: 0.7420 - val_loss: 1.0448 - val_binary_accuracy: 0.7386\n",
            "Epoch 4/30\n",
            "25/25 - 12s - loss: 0.9577 - binary_accuracy: 0.7404 - val_loss: 0.9154 - val_binary_accuracy: 0.7264\n",
            "Epoch 5/30\n",
            "25/25 - 12s - loss: 0.8832 - binary_accuracy: 0.7346 - val_loss: 0.8537 - val_binary_accuracy: 0.7356\n",
            "Epoch 6/30\n",
            "25/25 - 12s - loss: 0.8686 - binary_accuracy: 0.7414 - val_loss: 0.8318 - val_binary_accuracy: 0.7295\n",
            "Epoch 7/30\n",
            "25/25 - 12s - loss: 0.8801 - binary_accuracy: 0.7311 - val_loss: 0.9058 - val_binary_accuracy: 0.7234\n"
          ],
          "name": "stdout"
        }
      ]
    },
    {
      "cell_type": "markdown",
      "metadata": {
        "id": "-oJf0ZdXDPsU"
      },
      "source": [
        "SELU HUGE TEST\n"
      ]
    },
    {
      "cell_type": "code",
      "metadata": {
        "colab": {
          "base_uri": "https://localhost:8080/",
          "height": 0
        },
        "id": "-iYN5RXHDPF0",
        "outputId": "dccb3511-71b0-4836-f50d-fbf1b5b54b95"
      },
      "source": [
        "\n",
        "history4 = classifier_hugeselu_model.fit(training_CNN,\n",
        "                               training_labels,\n",
        "                               epochs=30,\n",
        "                               verbose=2,\n",
        "                               batch_size=256,                 \n",
        "                               validation_split=0.05,\n",
        "                               callbacks=callback\n",
        "                               )"
      ],
      "execution_count": 98,
      "outputs": [
        {
          "output_type": "stream",
          "text": [
            "Epoch 1/30\n",
            "25/25 - 19s - loss: 17.9840 - binary_accuracy: 0.6891 - val_loss: 15.7409 - val_binary_accuracy: 0.6261\n",
            "Epoch 2/30\n",
            "25/25 - 17s - loss: 5.7332 - binary_accuracy: 0.7194 - val_loss: 2.5500 - val_binary_accuracy: 0.6991\n",
            "Epoch 3/30\n",
            "25/25 - 17s - loss: 1.7803 - binary_accuracy: 0.7314 - val_loss: 1.2546 - val_binary_accuracy: 0.6748\n",
            "Epoch 4/30\n",
            "25/25 - 17s - loss: 1.1138 - binary_accuracy: 0.7407 - val_loss: 1.1193 - val_binary_accuracy: 0.7234\n",
            "Epoch 5/30\n",
            "25/25 - 17s - loss: 1.0287 - binary_accuracy: 0.7343 - val_loss: 1.0448 - val_binary_accuracy: 0.7082\n",
            "Epoch 6/30\n",
            "25/25 - 17s - loss: 1.0254 - binary_accuracy: 0.7340 - val_loss: 1.0376 - val_binary_accuracy: 0.7082\n",
            "Epoch 7/30\n",
            "25/25 - 17s - loss: 1.0771 - binary_accuracy: 0.7343 - val_loss: 1.0550 - val_binary_accuracy: 0.7325\n",
            "Epoch 8/30\n",
            "25/25 - 17s - loss: 1.0746 - binary_accuracy: 0.7346 - val_loss: 1.0721 - val_binary_accuracy: 0.7143\n"
          ],
          "name": "stdout"
        }
      ]
    },
    {
      "cell_type": "markdown",
      "metadata": {
        "id": "HmZECgc7tJUV"
      },
      "source": [
        "Prediction Model"
      ]
    },
    {
      "cell_type": "code",
      "metadata": {
        "colab": {
          "base_uri": "https://localhost:8080/",
          "height": 0
        },
        "id": "mr4ZbGpxlItX",
        "outputId": "67f9ce53-a547-4a3e-aa72-aabe8d13d7dc"
      },
      "source": [
        "prediction_model = Sequential([classifier_largeselu_model])\n",
        "predictions = prediction_model.predict(testing_CNN,verbose=1)\n",
        "predictions = [round(x[0]) for x in predictions]"
      ],
      "execution_count": 119,
      "outputs": [
        {
          "output_type": "stream",
          "text": [
            "141/141 [==============================] - 5s 34ms/step\n"
          ],
          "name": "stdout"
        }
      ]
    },
    {
      "cell_type": "code",
      "metadata": {
        "id": "vJOH_fm-u3-f"
      },
      "source": [
        "test_prob=predictions\n",
        "test_prediction_df=pd.DataFrame()\n",
        "test_prediction_df['ID']=np.arange(1,len(test_prob)+1)\n",
        "test_prediction_df['prediction']=np.array(test_prob)\n",
        "test_prediction_df.to_csv(\"/content/drive/MyDrive/Colab_Notebooks/Predictions/test12.csv\",index=None)"
      ],
      "execution_count": 120,
      "outputs": []
    },
    {
      "cell_type": "markdown",
      "metadata": {
        "id": "6cnfq4TUlo2a"
      },
      "source": [
        "Unused Methods"
      ]
    },
    {
      "cell_type": "code",
      "metadata": {
        "id": "vw1gZ1YJcR2m"
      },
      "source": [
        "#splitting training data for model testing         DO NOT USE!\n",
        "\n",
        "#modeltrain_CNN,    modeltest_CNN    = model_selection.train_test_split(training_CNN, train_size = 0.9)\n",
        "#modeltrain_GIST,   modeltest_GIST   = model_selection.train_test_split(training_GIST, train_size = 0.9)\n",
        "#modeltrain_labels, modeltest_labels = model_selection.train_test_split(training_labels, train_size = 0.9)"
      ],
      "execution_count": null,
      "outputs": []
    },
    {
      "cell_type": "code",
      "metadata": {
        "id": "GtjW0C7HYIhh"
      },
      "source": [
        "#Mean\n",
        "#modeltrain=np.append()\n",
        "#modeltest_CNN=imputer.fit_transform(modeltest_CNN)\n",
        "#modeltest_GIST=imputer.fit_transform(modeltest_GIST)"
      ],
      "execution_count": null,
      "outputs": []
    },
    {
      "cell_type": "code",
      "metadata": {
        "id": "p7Y2Iki1-62n"
      },
      "source": [
        "#scaling = StandardScaler()\n",
        "#training_CNN = scaling.fit_transform(training_CNN)\n",
        "#training_GIST = scaling.fit_transform(training_GIST)\n",
        "#test_CNN = scaling.fit_transform(testing_CNN)"
      ],
      "execution_count": 100,
      "outputs": []
    }
  ]
}